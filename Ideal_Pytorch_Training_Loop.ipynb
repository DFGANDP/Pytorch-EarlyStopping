{
  "nbformat": 4,
  "nbformat_minor": 0,
  "metadata": {
    "colab": {
      "provenance": [],
      "collapsed_sections": [
        "01d2CR2GyUmT"
      ]
    },
    "kernelspec": {
      "name": "python3",
      "display_name": "Python 3"
    },
    "language_info": {
      "name": "python"
    }
  },
  "cells": [
    {
      "cell_type": "markdown",
      "source": [
        "# Ideal training loop "
      ],
      "metadata": {
        "id": "YG9IenauyIBq"
      }
    },
    {
      "cell_type": "code",
      "source": [
        "import torch\n",
        "import torchvision\n",
        "\n",
        "# define config \n",
        "\n",
        "epoch = 10\n",
        "batch_size_train = 64\n",
        "batch_size_test = 1000\n",
        "learning_rate = 0.01\n",
        "momentum = 0.5\n",
        "log_interval = 10\n",
        "device = torch.device(\"cuda\" if torch.cuda.is_available() else \"cpu\")\n",
        "\n",
        "random_seed = 1\n",
        "torch.manual_seed(random_seed)\n",
        "\n",
        "train_loader = torch.utils.data.DataLoader(\n",
        "  torchvision.datasets.MNIST('/files/', train=True, download=True,\n",
        "                             transform=torchvision.transforms.Compose([\n",
        "                               torchvision.transforms.ToTensor(),\n",
        "                               torchvision.transforms.Normalize(\n",
        "                                 (0.1307,), (0.3081,))\n",
        "                             ])),\n",
        "  batch_size=batch_size_train, shuffle=True)\n",
        "\n",
        "test_loader = torch.utils.data.DataLoader(\n",
        "  torchvision.datasets.MNIST('/files/', train=False, download=True,\n",
        "                             transform=torchvision.transforms.Compose([\n",
        "                               torchvision.transforms.ToTensor(),\n",
        "                               torchvision.transforms.Normalize(\n",
        "                                 (0.1307,), (0.3081,))\n",
        "                             ])),\n",
        "  batch_size=batch_size_test, shuffle=True)\n",
        "\n",
        "import torch.nn as nn\n",
        "import torch.nn.functional as F\n",
        "import torch.optim as optim\n",
        "\n",
        "class Net(nn.Module):\n",
        "    def __init__(self):\n",
        "        super(Net, self).__init__()\n",
        "        self.conv1 = nn.Conv2d(1, 10, kernel_size=5)\n",
        "        self.conv2 = nn.Conv2d(10, 20, kernel_size=5)\n",
        "        self.conv2_drop = nn.Dropout2d()\n",
        "        self.fc1 = nn.Linear(320, 50)\n",
        "        self.fc2 = nn.Linear(50, 10)\n",
        "\n",
        "    def forward(self, x):\n",
        "        x = F.relu(F.max_pool2d(self.conv1(x), 2))\n",
        "        x = F.relu(F.max_pool2d(self.conv2_drop(self.conv2(x)), 2))\n",
        "        x = x.view(-1, 320)\n",
        "        x = F.relu(self.fc1(x))\n",
        "        x = F.dropout(x, training=self.training)\n",
        "        x = self.fc2(x)\n",
        "        return F.log_softmax(x)\n",
        "\n",
        "network = Net().to(device)\n",
        "optimizer = optim.SGD(network.parameters(), lr=learning_rate,\n",
        "                      momentum=momentum)\n",
        "hinge_loss = torch.nn.NLLLoss()"
      ],
      "metadata": {
        "id": "Lb7zEvC4krOd"
      },
      "execution_count": null,
      "outputs": []
    },
    {
      "cell_type": "markdown",
      "source": [
        "\n",
        "\n",
        "```\n",
        "So, basically loss is one-element PyTorch tensor\n",
        "and .item() converts its value to a standard Python number.\n",
        "```\n",
        "\n"
      ],
      "metadata": {
        "id": "4BYcuKc5IKFo"
      }
    },
    {
      "cell_type": "markdown",
      "source": [
        "\n",
        "\n",
        "```\n",
        "Note that in this paper, \"small batch\" is defined as 256 samples which is \n",
        "already pretty large in some cases :) and \"large batch\" is 10% of the dataset\n",
        "~ jakis random z neta sprawdzic to\n",
        "```\n",
        "\n"
      ],
      "metadata": {
        "id": "wrS0fd7wnHhd"
      }
    },
    {
      "cell_type": "markdown",
      "source": [
        "\n",
        "\n",
        "```\n",
        "The batch size determines how many training examples are processed in parallel\n",
        " for training/inference. The batch size at training time can affect how fast \n",
        " and how well your training converges. You can find a discussion of this effect \n",
        " here. Thus, for train_batch_size, it's worth picking a batch size that is \n",
        " neither too small nor too large (as discussed in the previously linked \n",
        " discussion). For some applications, using the largest possible training \n",
        " batches can actually be desirable, but in general, you select it through \n",
        " experiments and validation.\n",
        "\n",
        "However, for validation_batch_size and test_batch_size, you should pick the \n",
        "largest batch size that your hardware can handle without running out of memory \n",
        "and crashing. Finding this is usually a simple trial and error process. The \n",
        "larger your batch size at inference time, the faster it will be, since more \n",
        "inputs can be processed in parallel.\n",
        "```\n",
        "\n"
      ],
      "metadata": {
        "id": "PPK6i6LxmgBG"
      }
    },
    {
      "cell_type": "markdown",
      "source": [
        "\n",
        "\n",
        "1.   CUDA gpu/cpu ✅\n",
        "2.   Early stopping ✅\n",
        "3.   Log interval ✅ ! Poprawic TQDM\n",
        "4.   TQDM ✅\n",
        "5.   Scheduler + start epoch ✅\n",
        "6.   Visualization ✅\n",
        "7.   batch size max (ogarnac quantization oraz gpu/cpu kiedy warto max dac) ❌\n",
        "8.   Time of epoch i podsumowanie jak w tensorflow bylo train test itd ✅\n",
        "9.   Plotowanie w loss nie co epoke tylko co pol albo 100 przykladow albo cos innego wymyslic ✅\n",
        "10.  Confusion Matrix ✅\n",
        "11.  Dummy classifier ile bedzie mial (z uwzglednieniem niezbalansowania datasetu ale to chyba na jedno wyjdzie) ✅ \n",
        "12. save best ✅ \n",
        "13. Accuracy ✅\n",
        "14. EDA bad examples plot ❌\n",
        "15. model checkpoint jak w keras np. save co 5 epok i save tylko wagi / caly model ❌\n",
        "16. BackupAndRestore jesli sie wywali w treningu z jakiegos powodu to pusc epoke od nowa ❌\n",
        "17. Weights and biases podlaczyc / tensorboard albo cos podobnego ❌\n",
        "18. RemoteMonitor stramuje trening na serwer to mozna W&B ❌\n",
        "19. TerminateOnNaN jesli bedzie vanish albo explode gradient to stop ❌\n",
        "20. CSVLogger zapisz trening do csv pandas dataframe zrobic ✅\n",
        "21. Ideas from [W&B Article](https://wandb.ai/wandb_fc/tips/reports/How-to-Write-Efficient-Training-Loops-in-PyTorch--VmlldzoyMjg4OTk5) e.g. gradient accumulation ❌\n",
        "\n",
        "\n",
        "* zrobic funkcje ktora bierze rand tensor (b_size, chann, size, size) i znajduje max b_size, trzeba wziac pod uwage ze pamiec tez ma na sobie wagi sieci itd podczas treningu a wtej funkcji nie ! "
      ],
      "metadata": {
        "id": "P3kJs66pNNSk"
      }
    },
    {
      "cell_type": "code",
      "source": [
        "class EarlyStopping():\n",
        "    '''\n",
        "    Method for avoid ofervitting by stopping when test loss doesn't decrease\n",
        "\n",
        "    '''\n",
        "    def __init__(self, old_loss=float('inf'), patience=5, delta=0.001, mode=\"simple\", save=False):\n",
        "        '''\n",
        "        Attributes\n",
        "        ---------------------\n",
        "\n",
        "        old_loss: float\n",
        "            ON START IS EQUAL TO PLUS INFINITY\n",
        "            loss from last epoch\n",
        "            On metric you can use test loss, acc or your own idea\n",
        "\n",
        "        patience: int\n",
        "            number of epochs to check until break training\n",
        "        \n",
        "        delta: float\n",
        "            A minimum increase in the score to qualify as an improvement,\n",
        "            i.e. an increase of less than or equal to min_delta,\n",
        "            will count as no improvement.\n",
        "        \n",
        "        mode: str\n",
        "            if 'simple' model stop train when loss doesn't decrease \n",
        "            patience time.\n",
        "\n",
        "        save: bool\n",
        "            If True Saves best model every epoch\n",
        "            if epoch before was better don't overwrite\n",
        "            SAVE MODEL WITH SHAPE NOT ONLY WEIGHTS\n",
        "\n",
        "        Parameters\n",
        "        --------------------\n",
        "        counter: int 0 \n",
        "            If counter reach patience stop training\n",
        "        \n",
        "        best_loss: float\n",
        "            save best weights\n",
        "        '''\n",
        "        self.old_loss = old_loss\n",
        "        self.patience = patience\n",
        "        self.delta = delta\n",
        "        self.mode = mode\n",
        "        self.save = save\n",
        "        self.counter = 0\n",
        "        self.best_loss = float('inf')\n",
        "\n",
        "    def run(self, new_loss, model=None):\n",
        "        '''\n",
        "        Attributes\n",
        "        ------------------------\n",
        "        model: (check)\n",
        "            model to save weights\n",
        "        new_loss: float\n",
        "            new loss after test\n",
        "\n",
        "        Returns\n",
        "        -------------------\n",
        "        bool:\n",
        "            True if training should stop\n",
        "        \n",
        "        best model parameters or saved file \n",
        "        '''\n",
        "        if new_loss < self.old_loss:\n",
        "            if (self.old_loss - new_loss) <= self.delta:\n",
        "                self.counter += 1 \n",
        "            else:\n",
        "                # jesli sie zmiejszyl o wiecej niz delta to wyzeruj counter\n",
        "                self.counter = 0\n",
        "            self.old_loss = new_loss\n",
        "        elif new_loss > self.old_loss:\n",
        "            # dodaj do countera\n",
        "            self.counter += 1\n",
        "        \n",
        "        # save best model\n",
        "        if self.save is True:\n",
        "            if new_loss <= self.best_loss: # tutaj pomiesane bo nie zapisze po 1 razie tylko po kolejnych\n",
        "                #print(\"nowy loss mniejszy niz stary wiec nadpisuje best\")\n",
        "                self.best_loss = new_loss\n",
        "                #print(f\"ZAPISUJE MODEL Z TEST LOSS: {self.best_loss}\")\n",
        "                torch.save(model, 'best_model.pth')\n",
        "                \n",
        "\n",
        "        # stop training\n",
        "        if self.counter >= self.patience:\n",
        "            return True\n",
        "        \n",
        "        return False\n",
        "\n"
      ],
      "metadata": {
        "id": "dBGHnDDneUAH"
      },
      "execution_count": null,
      "outputs": []
    },
    {
      "cell_type": "code",
      "source": [
        "from tqdm import tqdm\n",
        "import numpy as np\n",
        "import time\n",
        "\n",
        "# CUDA automatyczne wykrywanie dodac\n",
        "# log intervals+\n",
        "\n",
        "def calculate_log_interval(dataloader, percent=10):\n",
        "    '''\n",
        "    Attributes\n",
        "    --------------------------\n",
        "    if percent == 10, log will be printed every 10% of dataset\n",
        "\n",
        "    no nie do konca takto bedzie dzialac xd\n",
        "    '''\n",
        "    num_batches = len(dataloader)\n",
        "    p = lambda x : x/100\n",
        "    calc_per = p(percent)\n",
        "    result = int(num_batches*calc_per)\n",
        "    print(f\"Number of batches in dataset: {num_batches}, for percent: {percent}, log_interval is: {result}\")\n",
        "    return result\n",
        "\n",
        "\n",
        "def train_function(model, loss_fn, optimizer, dataloader, log_interval=None):\n",
        "    '''\n",
        "    Function for training one epoch in model\n",
        "\n",
        "    Parameters\n",
        "    -------------------------------\n",
        "    epoch : int\n",
        "        Number of epochs to train the model\n",
        "    \n",
        "    model : (sprawdzic)\n",
        "        Neural network model to train\n",
        "\n",
        "    loss_fn : (check)\n",
        "        Function which compute loss\n",
        "    \n",
        "    optimizer : (check)\n",
        "        Optimizer adjust learnable parameters\n",
        "    \n",
        "    dataloader : (torch.utils..)\n",
        "        TRAIN dataloader\n",
        "\n",
        "    log_interval: int\n",
        "        if 10 log interval wiill be printed every 10 batches\n",
        "\n",
        "    Attributes\n",
        "    ------------------------------\n",
        "    X, y : torch.Tensor\n",
        "        data and label (n_samples, in_channels, img_size, img_size)\n",
        "    \n",
        "    loss : (check)\n",
        "        computed loss\n",
        "\n",
        "    Returns\n",
        "    -----------------------\n",
        "    logits : torch.Tensor\n",
        "        Logits over all the classes - '(n_smaples, n_classes)'\n",
        "    '''\n",
        "    interval_loss = []\n",
        "    model.train()\n",
        "    train_loss = 0.\n",
        "    num_batches = len(dataloader)\n",
        "    #log_interval = int((len(dataloader.dataset) % log_interval))\n",
        "    for i, (data, label) in tqdm(enumerate(dataloader), position=0, leave=True, total=len(dataloader)):\n",
        "        data = data.to(device)\n",
        "        label = label.to(device)\n",
        "        # 1. clear gradients\n",
        "        model.zero_grad()\n",
        "\n",
        "        # 2. forward pass\n",
        "        label_pred = model(data)\n",
        "\n",
        "        # 3. compute loss\n",
        "        loss = loss_fn(label_pred, label)\n",
        "\n",
        "        # 4. compute gradients\n",
        "        loss.backward()\n",
        "\n",
        "        # 5. adjust learnable parameters\n",
        "        optimizer.step()\n",
        "\n",
        "        train_loss += loss.item()\n",
        "        if log_interval is not None:\n",
        "            if i % log_interval == 0:\n",
        "                tqdm.write(f\"For batch: 0-{i+1} train_loss: {train_loss/(i+1)}\")\n",
        "                interval_loss.append(train_loss/(i+1))\n",
        "            \n",
        "    train_loss /= num_batches\n",
        "    return train_loss, interval_loss\n",
        "    \n",
        "\n",
        "\n",
        "def test_function(model, loss_fn, dataloader):\n",
        "    '''\n",
        "    Test one epoch in model\n",
        "    Function for training one epoch in model\n",
        "\n",
        "    Parameters\n",
        "    -------------------------------\n",
        "    model : (sprawdzic)\n",
        "        Neural network model to train\n",
        "\n",
        "    loss_fn : (check)\n",
        "        Function which compute loss\n",
        "    \n",
        "    dataloader : (torch.utils..)\n",
        "        TEST dataloader\n",
        "    \n",
        "\n",
        "    Attributes\n",
        "    ------------------------------\n",
        "    X, y : torch.Tensor\n",
        "        data and label (n_samples, in_channels, img_size, img_size)\n",
        "    \n",
        "    loss : (check)\n",
        "        computed loss\n",
        "\n",
        "    Returns\n",
        "    -----------------------\n",
        "    logits : torch.Tensor\n",
        "        Logits over all the classes - '(n_smaples, n_classes)'\n",
        "    '''\n",
        "    model.eval()\n",
        "    correct = 0.\n",
        "    test_loss = 0.\n",
        "    num_batches = len(dataloader)\n",
        "    size = len(dataloader.dataset)\n",
        "    with torch.no_grad():\n",
        "        for data, label in tqdm(dataloader, position=0, leave=True):\n",
        "            data = data.to(device)\n",
        "            label = label.to(device)\n",
        "            preds = model(data)\n",
        "            correct += (preds.argmax(1) == label).type(torch.float).sum().item()\n",
        "            test_loss += loss_fn(preds, label).item()\n",
        "    test_loss /= num_batches\n",
        "    accuracy = correct/size\n",
        "    return test_loss, accuracy\n",
        "\n",
        "\n",
        "def train_model(epoch: int, model, loss_fn, optimizer, train_dataloader, test_dataloader, scheduler=None, start_epoch=0, log_interval=None, patience=3):\n",
        "    '''\n",
        "    Attributes\n",
        "    ---------------------\n",
        "    log interval: int\n",
        "        if 10 log interval wiill be printed every 10% of dataset\n",
        "    '''\n",
        "    if scheduler is not None:\n",
        "        for i in range(0, start_epoch): # po co ? bo dziala od ktorejs epoki czasami !!!\n",
        "            scheduler.step()\n",
        "    \n",
        "    all_interval_losses = [] # nie np array poniewaz roznie to moze wychodzic z iloscia batch\n",
        "    stop_training = EarlyStopping(patience=patience, save=True)\n",
        "    base_loss = test_function(model, loss_fn, test_dataloader) # check loss without training\n",
        "    train_loss = np.zeros(epoch)\n",
        "    test_loss = np.zeros(epoch)\n",
        "    acc_tab = np.zeros(epoch)\n",
        "    for i in range(epoch):\n",
        "        start_time = time.time()\n",
        "        train_loss[i], interval_loss = train_function(model, loss_fn, optimizer, train_dataloader, log_interval)\n",
        "        t_train = time.time() - start_time\n",
        "        test_loss[i], acc_tab[i] = test_function(model, loss_fn, test_dataloader)\n",
        "        t_test = time.time() - t_train - start_time\n",
        "\n",
        "        all_interval_losses.append(interval_loss)\n",
        "        if scheduler is not None:\n",
        "            scheduler.step()\n",
        "\n",
        "        print(f\"EPOCH: {i+1},  TRAIN LOSS: {round(train_loss[i],5)}, TEST LOSS: {round(test_loss[i],5)}, ACCURACY: {acc_tab[i]} TRAIN/TEST TIME: {round(t_train, 3)}/{round(t_test, 3)} sec \\n\")\n",
        "        decision = stop_training.run(test_loss[i], model)\n",
        "\n",
        "        if decision == True:\n",
        "            print(\"TRAINING STOP\")\n",
        "            # remove 0s from array\n",
        "            train_loss = np.trim_zeros(train_loss, 'b')\n",
        "            test_loss = np.trim_zeros(test_loss, 'b')\n",
        "            acc_tab = np.trim_zeros(acc_tab, 'b')\n",
        "            break\n",
        "            \n",
        "    return train_loss, test_loss, acc_tab, base_loss, all_interval_losses\n",
        "\n",
        "xd = calculate_log_interval(train_loader, percent=10)"
      ],
      "metadata": {
        "id": "tvgOMDVi04hO",
        "colab": {
          "base_uri": "https://localhost:8080/"
        },
        "outputId": "f45d1c5f-e8b2-46a9-cd17-bf324a5e2ce9"
      },
      "execution_count": null,
      "outputs": [
        {
          "output_type": "stream",
          "name": "stdout",
          "text": [
            "Number of batches in dataset: 938, for percent: 10, log_interval is: 93\n"
          ]
        }
      ]
    },
    {
      "cell_type": "code",
      "source": [
        "import pandas as pd\n",
        "\n",
        "def create_csv(train_loss, test_loss, acc_tab):\n",
        "    '''\n",
        "    Save logs to csv\n",
        "    '''\n",
        "    df = pd.DataFrame((train_loss, test_loss, acc_tab), columns=['Train Loss', 'Test Loss', 'Accuracy'])\n",
        "    df.to_csv(\"Training logs\")\n",
        "    "
      ],
      "metadata": {
        "id": "koR48lFZ-gfW"
      },
      "execution_count": null,
      "outputs": []
    },
    {
      "cell_type": "code",
      "source": [
        "import torch.optim.lr_scheduler\n",
        "\n",
        "epoch=50\n",
        "network = Net().to(device)\n",
        "optimizer = optim.SGD(network.parameters(), lr=learning_rate,\n",
        "                      momentum=momentum) # zapomniale o tym dlatego loss sie nie zmniejszal\n",
        "scheduler = torch.optim.lr_scheduler.StepLR(optimizer, 8, gamma=0.1, last_epoch=-1)\n",
        "\n",
        "train_loss, test_loss, acc_tab, base_loss, all_interval_losses = train_model(epoch, network, hinge_loss,\n",
        "                                                                             optimizer, train_loader, test_loader, scheduler, start_epoch=0, log_interval=93, patience=3)"
      ],
      "metadata": {
        "colab": {
          "base_uri": "https://localhost:8080/"
        },
        "id": "A8N8o6xknzye",
        "outputId": "2e972ed5-ab83-4319-ea89-dd69acb1537b"
      },
      "execution_count": null,
      "outputs": [
        {
          "output_type": "stream",
          "name": "stderr",
          "text": [
            "  0%|          | 0/10 [00:00<?, ?it/s]/usr/local/lib/python3.7/dist-packages/ipykernel_launcher.py:55: UserWarning: Implicit dimension choice for log_softmax has been deprecated. Change the call to include dim=X as an argument.\n",
            "100%|██████████| 10/10 [00:03<00:00,  3.24it/s]\n",
            "  1%|          | 5/938 [00:00<00:40, 22.99it/s]"
          ]
        },
        {
          "output_type": "stream",
          "name": "stdout",
          "text": [
            "For batch: 0-1 train_loss: 2.3355517387390137\n"
          ]
        },
        {
          "output_type": "stream",
          "name": "stderr",
          "text": [
            " 10%|█         | 98/938 [00:03<00:34, 24.13it/s]"
          ]
        },
        {
          "output_type": "stream",
          "name": "stdout",
          "text": [
            "For batch: 0-94 train_loss: 2.250664957026218\n"
          ]
        },
        {
          "output_type": "stream",
          "name": "stderr",
          "text": [
            " 20%|██        | 191/938 [00:07<00:28, 26.41it/s]"
          ]
        },
        {
          "output_type": "stream",
          "name": "stdout",
          "text": [
            "For batch: 0-187 train_loss: 2.014592251038169\n"
          ]
        },
        {
          "output_type": "stream",
          "name": "stderr",
          "text": [
            " 30%|███       | 283/938 [00:11<00:25, 26.00it/s]"
          ]
        },
        {
          "output_type": "stream",
          "name": "stdout",
          "text": [
            "For batch: 0-280 train_loss: 1.7244292565754482\n"
          ]
        },
        {
          "output_type": "stream",
          "name": "stderr",
          "text": [
            " 40%|████      | 376/938 [00:15<00:23, 24.23it/s]"
          ]
        },
        {
          "output_type": "stream",
          "name": "stdout",
          "text": [
            "For batch: 0-373 train_loss: 1.5133290442640597\n"
          ]
        },
        {
          "output_type": "stream",
          "name": "stderr",
          "text": [
            " 50%|█████     | 469/938 [00:18<00:17, 27.33it/s]"
          ]
        },
        {
          "output_type": "stream",
          "name": "stdout",
          "text": [
            "For batch: 0-466 train_loss: 1.3598954932116643\n"
          ]
        },
        {
          "output_type": "stream",
          "name": "stderr",
          "text": [
            " 60%|█████▉    | 562/938 [00:21<00:13, 27.99it/s]"
          ]
        },
        {
          "output_type": "stream",
          "name": "stdout",
          "text": [
            "For batch: 0-559 train_loss: 1.2457150615925012\n"
          ]
        },
        {
          "output_type": "stream",
          "name": "stderr",
          "text": [
            " 70%|██████▉   | 655/938 [00:25<00:10, 26.89it/s]"
          ]
        },
        {
          "output_type": "stream",
          "name": "stdout",
          "text": [
            "For batch: 0-652 train_loss: 1.151970298926523\n"
          ]
        },
        {
          "output_type": "stream",
          "name": "stderr",
          "text": [
            " 80%|███████▉  | 748/938 [00:28<00:06, 28.04it/s]"
          ]
        },
        {
          "output_type": "stream",
          "name": "stdout",
          "text": [
            "For batch: 0-745 train_loss: 1.0802486818108783\n"
          ]
        },
        {
          "output_type": "stream",
          "name": "stderr",
          "text": [
            " 90%|████████▉ | 841/938 [00:31<00:03, 26.19it/s]"
          ]
        },
        {
          "output_type": "stream",
          "name": "stdout",
          "text": [
            "For batch: 0-838 train_loss: 1.017558916443003\n"
          ]
        },
        {
          "output_type": "stream",
          "name": "stderr",
          "text": [
            "100%|█████████▉| 935/938 [00:35<00:00, 23.55it/s]"
          ]
        },
        {
          "output_type": "stream",
          "name": "stdout",
          "text": [
            "For batch: 0-931 train_loss: 0.9661555070305997\n"
          ]
        },
        {
          "output_type": "stream",
          "name": "stderr",
          "text": [
            "100%|██████████| 938/938 [00:35<00:00, 26.34it/s]\n",
            "100%|██████████| 10/10 [00:03<00:00,  3.05it/s]\n"
          ]
        },
        {
          "output_type": "stream",
          "name": "stdout",
          "text": [
            "EPOCH: 1,  TRAIN LOSS: 0.96266, TEST LOSS: 0.1939, ACCURACY: 0.9438 TRAIN/TEST TIME: 35.627/3.287 sec \n",
            "\n"
          ]
        },
        {
          "output_type": "stream",
          "name": "stderr",
          "text": [
            "  0%|          | 3/938 [00:00<00:38, 24.58it/s]"
          ]
        },
        {
          "output_type": "stream",
          "name": "stdout",
          "text": [
            "For batch: 0-1 train_loss: 0.5186507701873779\n"
          ]
        },
        {
          "output_type": "stream",
          "name": "stderr",
          "text": [
            " 11%|█         | 99/938 [00:03<00:29, 28.40it/s]"
          ]
        },
        {
          "output_type": "stream",
          "name": "stdout",
          "text": [
            "For batch: 0-94 train_loss: 0.45192952469942416\n"
          ]
        },
        {
          "output_type": "stream",
          "name": "stderr",
          "text": [
            " 20%|██        | 192/938 [00:06<00:27, 27.22it/s]"
          ]
        },
        {
          "output_type": "stream",
          "name": "stdout",
          "text": [
            "For batch: 0-187 train_loss: 0.44941287396107127\n"
          ]
        },
        {
          "output_type": "stream",
          "name": "stderr",
          "text": [
            " 30%|███       | 284/938 [00:10<00:27, 23.77it/s]"
          ]
        },
        {
          "output_type": "stream",
          "name": "stdout",
          "text": [
            "For batch: 0-280 train_loss: 0.4440257612615824\n"
          ]
        },
        {
          "output_type": "stream",
          "name": "stderr",
          "text": [
            " 40%|████      | 376/938 [00:13<00:20, 27.85it/s]"
          ]
        },
        {
          "output_type": "stream",
          "name": "stdout",
          "text": [
            "For batch: 0-373 train_loss: 0.43306868980781005\n"
          ]
        },
        {
          "output_type": "stream",
          "name": "stderr",
          "text": [
            " 50%|█████     | 471/938 [00:16<00:17, 27.35it/s]"
          ]
        },
        {
          "output_type": "stream",
          "name": "stdout",
          "text": [
            "For batch: 0-466 train_loss: 0.424398243443265\n"
          ]
        },
        {
          "output_type": "stream",
          "name": "stderr",
          "text": [
            " 60%|██████    | 563/938 [00:20<00:13, 27.55it/s]"
          ]
        },
        {
          "output_type": "stream",
          "name": "stdout",
          "text": [
            "For batch: 0-559 train_loss: 0.4155051449783586\n"
          ]
        },
        {
          "output_type": "stream",
          "name": "stderr",
          "text": [
            " 70%|██████▉   | 655/938 [00:23<00:11, 24.52it/s]"
          ]
        },
        {
          "output_type": "stream",
          "name": "stdout",
          "text": [
            "For batch: 0-652 train_loss: 0.4120069094390774\n"
          ]
        },
        {
          "output_type": "stream",
          "name": "stderr",
          "text": [
            " 80%|███████▉  | 748/938 [00:27<00:07, 25.35it/s]"
          ]
        },
        {
          "output_type": "stream",
          "name": "stdout",
          "text": [
            "For batch: 0-745 train_loss: 0.40668770109847086\n"
          ]
        },
        {
          "output_type": "stream",
          "name": "stderr",
          "text": [
            " 90%|████████▉ | 841/938 [00:30<00:03, 26.92it/s]"
          ]
        },
        {
          "output_type": "stream",
          "name": "stdout",
          "text": [
            "For batch: 0-838 train_loss: 0.398407729853807\n"
          ]
        },
        {
          "output_type": "stream",
          "name": "stderr",
          "text": [
            "100%|█████████▉| 934/938 [00:34<00:00, 27.15it/s]"
          ]
        },
        {
          "output_type": "stream",
          "name": "stdout",
          "text": [
            "For batch: 0-931 train_loss: 0.3938817377777412\n"
          ]
        },
        {
          "output_type": "stream",
          "name": "stderr",
          "text": [
            "100%|██████████| 938/938 [00:34<00:00, 27.33it/s]\n",
            "100%|██████████| 10/10 [00:02<00:00,  3.35it/s]\n"
          ]
        },
        {
          "output_type": "stream",
          "name": "stdout",
          "text": [
            "EPOCH: 2,  TRAIN LOSS: 0.39362, TEST LOSS: 0.1222, ACCURACY: 0.9636 TRAIN/TEST TIME: 34.332/2.999 sec \n",
            "\n"
          ]
        },
        {
          "output_type": "stream",
          "name": "stderr",
          "text": [
            "  0%|          | 3/938 [00:00<00:37, 24.67it/s]"
          ]
        },
        {
          "output_type": "stream",
          "name": "stdout",
          "text": [
            "For batch: 0-1 train_loss: 0.2988179624080658\n"
          ]
        },
        {
          "output_type": "stream",
          "name": "stderr",
          "text": [
            " 11%|█         | 99/938 [00:03<00:31, 26.99it/s]"
          ]
        },
        {
          "output_type": "stream",
          "name": "stdout",
          "text": [
            "For batch: 0-94 train_loss: 0.32863378112620495\n"
          ]
        },
        {
          "output_type": "stream",
          "name": "stderr",
          "text": [
            " 20%|██        | 191/938 [00:06<00:27, 27.52it/s]"
          ]
        },
        {
          "output_type": "stream",
          "name": "stdout",
          "text": [
            "For batch: 0-187 train_loss: 0.3248923675102346\n"
          ]
        },
        {
          "output_type": "stream",
          "name": "stderr",
          "text": [
            " 30%|███       | 284/938 [00:10<00:25, 25.61it/s]"
          ]
        },
        {
          "output_type": "stream",
          "name": "stdout",
          "text": [
            "For batch: 0-280 train_loss: 0.317553477574672\n"
          ]
        },
        {
          "output_type": "stream",
          "name": "stderr",
          "text": [
            " 40%|████      | 377/938 [00:14<00:23, 23.85it/s]"
          ]
        },
        {
          "output_type": "stream",
          "name": "stdout",
          "text": [
            "For batch: 0-373 train_loss: 0.3195571221870647\n"
          ]
        },
        {
          "output_type": "stream",
          "name": "stderr",
          "text": [
            " 50%|█████     | 469/938 [00:17<00:17, 26.99it/s]"
          ]
        },
        {
          "output_type": "stream",
          "name": "stdout",
          "text": [
            "For batch: 0-466 train_loss: 0.3141249758171421\n"
          ]
        },
        {
          "output_type": "stream",
          "name": "stderr",
          "text": [
            " 60%|█████▉    | 562/938 [00:21<00:13, 27.95it/s]"
          ]
        },
        {
          "output_type": "stream",
          "name": "stdout",
          "text": [
            "For batch: 0-559 train_loss: 0.3126651559938045\n"
          ]
        },
        {
          "output_type": "stream",
          "name": "stderr",
          "text": [
            " 70%|██████▉   | 655/938 [00:24<00:11, 25.13it/s]"
          ]
        },
        {
          "output_type": "stream",
          "name": "stdout",
          "text": [
            "For batch: 0-652 train_loss: 0.3117360098436018\n"
          ]
        },
        {
          "output_type": "stream",
          "name": "stderr",
          "text": [
            " 80%|███████▉  | 747/938 [00:28<00:08, 23.30it/s]"
          ]
        },
        {
          "output_type": "stream",
          "name": "stdout",
          "text": [
            "For batch: 0-745 train_loss: 0.30896634370488607\n"
          ]
        },
        {
          "output_type": "stream",
          "name": "stderr",
          "text": [
            " 90%|████████▉ | 843/938 [00:31<00:03, 28.59it/s]"
          ]
        },
        {
          "output_type": "stream",
          "name": "stdout",
          "text": [
            "For batch: 0-838 train_loss: 0.30736731983241145\n"
          ]
        },
        {
          "output_type": "stream",
          "name": "stderr",
          "text": [
            "100%|█████████▉| 934/938 [00:34<00:00, 28.22it/s]"
          ]
        },
        {
          "output_type": "stream",
          "name": "stdout",
          "text": [
            "For batch: 0-931 train_loss: 0.3053121868316904\n"
          ]
        },
        {
          "output_type": "stream",
          "name": "stderr",
          "text": [
            "100%|██████████| 938/938 [00:35<00:00, 26.70it/s]\n",
            "100%|██████████| 10/10 [00:02<00:00,  3.37it/s]\n"
          ]
        },
        {
          "output_type": "stream",
          "name": "stdout",
          "text": [
            "EPOCH: 3,  TRAIN LOSS: 0.30458, TEST LOSS: 0.09655, ACCURACY: 0.9705 TRAIN/TEST TIME: 35.144/2.981 sec \n",
            "\n"
          ]
        },
        {
          "output_type": "stream",
          "name": "stderr",
          "text": [
            "  0%|          | 3/938 [00:00<00:41, 22.28it/s]"
          ]
        },
        {
          "output_type": "stream",
          "name": "stdout",
          "text": [
            "For batch: 0-1 train_loss: 0.29050585627555847\n"
          ]
        },
        {
          "output_type": "stream",
          "name": "stderr",
          "text": [
            " 10%|█         | 97/938 [00:03<00:31, 26.80it/s]"
          ]
        },
        {
          "output_type": "stream",
          "name": "stdout",
          "text": [
            "For batch: 0-94 train_loss: 0.2911169474667057\n"
          ]
        },
        {
          "output_type": "stream",
          "name": "stderr",
          "text": [
            " 20%|██        | 190/938 [00:06<00:27, 27.28it/s]"
          ]
        },
        {
          "output_type": "stream",
          "name": "stdout",
          "text": [
            "For batch: 0-187 train_loss: 0.2919163570644703\n"
          ]
        },
        {
          "output_type": "stream",
          "name": "stderr",
          "text": [
            " 30%|███       | 284/938 [00:10<00:25, 25.73it/s]"
          ]
        },
        {
          "output_type": "stream",
          "name": "stdout",
          "text": [
            "For batch: 0-280 train_loss: 0.2802094290432121\n"
          ]
        },
        {
          "output_type": "stream",
          "name": "stderr",
          "text": [
            " 40%|███▉      | 375/938 [00:13<00:22, 25.03it/s]"
          ]
        },
        {
          "output_type": "stream",
          "name": "stdout",
          "text": [
            "For batch: 0-373 train_loss: 0.2775186071866479\n"
          ]
        },
        {
          "output_type": "stream",
          "name": "stderr",
          "text": [
            " 50%|█████     | 469/938 [00:18<00:16, 27.79it/s]"
          ]
        },
        {
          "output_type": "stream",
          "name": "stdout",
          "text": [
            "For batch: 0-466 train_loss: 0.2733035377054895\n"
          ]
        },
        {
          "output_type": "stream",
          "name": "stderr",
          "text": [
            " 60%|██████    | 564/938 [00:21<00:13, 27.51it/s]"
          ]
        },
        {
          "output_type": "stream",
          "name": "stdout",
          "text": [
            "For batch: 0-559 train_loss: 0.27374136644500524\n"
          ]
        },
        {
          "output_type": "stream",
          "name": "stderr",
          "text": [
            " 70%|██████▉   | 656/938 [00:24<00:10, 26.57it/s]"
          ]
        },
        {
          "output_type": "stream",
          "name": "stdout",
          "text": [
            "For batch: 0-652 train_loss: 0.27083634901106174\n"
          ]
        },
        {
          "output_type": "stream",
          "name": "stderr",
          "text": [
            " 80%|███████▉  | 748/938 [00:28<00:07, 27.08it/s]"
          ]
        },
        {
          "output_type": "stream",
          "name": "stdout",
          "text": [
            "For batch: 0-745 train_loss: 0.26941561451394286\n"
          ]
        },
        {
          "output_type": "stream",
          "name": "stderr",
          "text": [
            " 90%|████████▉ | 842/938 [00:31<00:03, 26.75it/s]"
          ]
        },
        {
          "output_type": "stream",
          "name": "stdout",
          "text": [
            "For batch: 0-838 train_loss: 0.2670624146598051\n"
          ]
        },
        {
          "output_type": "stream",
          "name": "stderr",
          "text": [
            "100%|█████████▉| 934/938 [00:34<00:00, 27.45it/s]"
          ]
        },
        {
          "output_type": "stream",
          "name": "stdout",
          "text": [
            "For batch: 0-931 train_loss: 0.2672917748912449\n"
          ]
        },
        {
          "output_type": "stream",
          "name": "stderr",
          "text": [
            "100%|██████████| 938/938 [00:34<00:00, 26.86it/s]\n",
            "100%|██████████| 10/10 [00:03<00:00,  3.23it/s]\n"
          ]
        },
        {
          "output_type": "stream",
          "name": "stdout",
          "text": [
            "EPOCH: 4,  TRAIN LOSS: 0.26691, TEST LOSS: 0.09019, ACCURACY: 0.9736 TRAIN/TEST TIME: 34.926/3.106 sec \n",
            "\n"
          ]
        },
        {
          "output_type": "stream",
          "name": "stderr",
          "text": [
            "  0%|          | 2/938 [00:00<00:48, 19.22it/s]"
          ]
        },
        {
          "output_type": "stream",
          "name": "stdout",
          "text": [
            "For batch: 0-1 train_loss: 0.10219341516494751\n"
          ]
        },
        {
          "output_type": "stream",
          "name": "stderr",
          "text": [
            " 10%|█         | 98/938 [00:03<00:31, 26.32it/s]"
          ]
        },
        {
          "output_type": "stream",
          "name": "stdout",
          "text": [
            "For batch: 0-94 train_loss: 0.2445112145803076\n"
          ]
        },
        {
          "output_type": "stream",
          "name": "stderr",
          "text": [
            " 20%|██        | 190/938 [00:06<00:26, 28.03it/s]"
          ]
        },
        {
          "output_type": "stream",
          "name": "stdout",
          "text": [
            "For batch: 0-187 train_loss: 0.2287800149484114\n"
          ]
        },
        {
          "output_type": "stream",
          "name": "stderr",
          "text": [
            " 30%|███       | 284/938 [00:10<00:23, 27.41it/s]"
          ]
        },
        {
          "output_type": "stream",
          "name": "stdout",
          "text": [
            "For batch: 0-280 train_loss: 0.23454513672207083\n"
          ]
        },
        {
          "output_type": "stream",
          "name": "stderr",
          "text": [
            " 40%|████      | 376/938 [00:13<00:20, 27.22it/s]"
          ]
        },
        {
          "output_type": "stream",
          "name": "stdout",
          "text": [
            "For batch: 0-373 train_loss: 0.23633606208553262\n"
          ]
        },
        {
          "output_type": "stream",
          "name": "stderr",
          "text": [
            " 50%|█████     | 471/938 [00:16<00:17, 26.91it/s]"
          ]
        },
        {
          "output_type": "stream",
          "name": "stdout",
          "text": [
            "For batch: 0-466 train_loss: 0.23646554304486692\n"
          ]
        },
        {
          "output_type": "stream",
          "name": "stderr",
          "text": [
            " 60%|██████    | 563/938 [00:20<00:13, 27.06it/s]"
          ]
        },
        {
          "output_type": "stream",
          "name": "stdout",
          "text": [
            "For batch: 0-559 train_loss: 0.2349806072353677\n"
          ]
        },
        {
          "output_type": "stream",
          "name": "stderr",
          "text": [
            " 70%|███████   | 657/938 [00:23<00:11, 25.04it/s]"
          ]
        },
        {
          "output_type": "stream",
          "name": "stdout",
          "text": [
            "For batch: 0-652 train_loss: 0.2368175635240012\n"
          ]
        },
        {
          "output_type": "stream",
          "name": "stderr",
          "text": [
            " 80%|███████▉  | 748/938 [00:26<00:08, 23.34it/s]"
          ]
        },
        {
          "output_type": "stream",
          "name": "stdout",
          "text": [
            "For batch: 0-745 train_loss: 0.23725235407184433\n"
          ]
        },
        {
          "output_type": "stream",
          "name": "stderr",
          "text": [
            " 90%|████████▉ | 842/938 [00:30<00:03, 25.51it/s]"
          ]
        },
        {
          "output_type": "stream",
          "name": "stdout",
          "text": [
            "For batch: 0-838 train_loss: 0.23639145487728294\n"
          ]
        },
        {
          "output_type": "stream",
          "name": "stderr",
          "text": [
            "100%|█████████▉| 934/938 [00:33<00:00, 26.53it/s]"
          ]
        },
        {
          "output_type": "stream",
          "name": "stdout",
          "text": [
            "For batch: 0-931 train_loss: 0.23604415220665625\n"
          ]
        },
        {
          "output_type": "stream",
          "name": "stderr",
          "text": [
            "100%|██████████| 938/938 [00:33<00:00, 27.80it/s]\n",
            "100%|██████████| 10/10 [00:03<00:00,  3.27it/s]\n"
          ]
        },
        {
          "output_type": "stream",
          "name": "stdout",
          "text": [
            "EPOCH: 5,  TRAIN LOSS: 0.23597, TEST LOSS: 0.07673, ACCURACY: 0.9771 TRAIN/TEST TIME: 33.755/3.077 sec \n",
            "\n"
          ]
        },
        {
          "output_type": "stream",
          "name": "stderr",
          "text": [
            "  0%|          | 2/938 [00:00<00:48, 19.43it/s]"
          ]
        },
        {
          "output_type": "stream",
          "name": "stdout",
          "text": [
            "For batch: 0-1 train_loss: 0.061629798263311386\n"
          ]
        },
        {
          "output_type": "stream",
          "name": "stderr",
          "text": [
            " 10%|█         | 98/938 [00:03<00:31, 27.09it/s]"
          ]
        },
        {
          "output_type": "stream",
          "name": "stdout",
          "text": [
            "For batch: 0-94 train_loss: 0.20194734613153528\n"
          ]
        },
        {
          "output_type": "stream",
          "name": "stderr",
          "text": [
            " 20%|██        | 190/938 [00:06<00:26, 27.98it/s]"
          ]
        },
        {
          "output_type": "stream",
          "name": "stdout",
          "text": [
            "For batch: 0-187 train_loss: 0.21207356717895698\n"
          ]
        },
        {
          "output_type": "stream",
          "name": "stderr",
          "text": [
            " 30%|███       | 283/938 [00:10<00:25, 26.08it/s]"
          ]
        },
        {
          "output_type": "stream",
          "name": "stdout",
          "text": [
            "For batch: 0-280 train_loss: 0.22126265302566545\n"
          ]
        },
        {
          "output_type": "stream",
          "name": "stderr",
          "text": [
            " 40%|███▉      | 375/938 [00:13<00:21, 26.49it/s]"
          ]
        },
        {
          "output_type": "stream",
          "name": "stdout",
          "text": [
            "For batch: 0-373 train_loss: 0.21909615041902814\n"
          ]
        },
        {
          "output_type": "stream",
          "name": "stderr",
          "text": [
            " 50%|█████     | 470/938 [00:16<00:17, 27.38it/s]"
          ]
        },
        {
          "output_type": "stream",
          "name": "stdout",
          "text": [
            "For batch: 0-466 train_loss: 0.22000548567287145\n"
          ]
        },
        {
          "output_type": "stream",
          "name": "stderr",
          "text": [
            " 60%|█████▉    | 562/938 [00:20<00:13, 27.78it/s]"
          ]
        },
        {
          "output_type": "stream",
          "name": "stdout",
          "text": [
            "For batch: 0-559 train_loss: 0.21912757293962623\n"
          ]
        },
        {
          "output_type": "stream",
          "name": "stderr",
          "text": [
            " 70%|██████▉   | 655/938 [00:23<00:10, 27.38it/s]"
          ]
        },
        {
          "output_type": "stream",
          "name": "stdout",
          "text": [
            "For batch: 0-652 train_loss: 0.21716128297698645\n"
          ]
        },
        {
          "output_type": "stream",
          "name": "stderr",
          "text": [
            " 80%|███████▉  | 749/938 [00:26<00:06, 27.16it/s]"
          ]
        },
        {
          "output_type": "stream",
          "name": "stdout",
          "text": [
            "For batch: 0-745 train_loss: 0.21795938085989663\n"
          ]
        },
        {
          "output_type": "stream",
          "name": "stderr",
          "text": [
            " 90%|████████▉ | 842/938 [00:30<00:03, 26.58it/s]"
          ]
        },
        {
          "output_type": "stream",
          "name": "stdout",
          "text": [
            "For batch: 0-838 train_loss: 0.21701574605625115\n"
          ]
        },
        {
          "output_type": "stream",
          "name": "stderr",
          "text": [
            "100%|█████████▉| 935/938 [00:33<00:00, 27.55it/s]"
          ]
        },
        {
          "output_type": "stream",
          "name": "stdout",
          "text": [
            "For batch: 0-931 train_loss: 0.21632235500037222\n"
          ]
        },
        {
          "output_type": "stream",
          "name": "stderr",
          "text": [
            "100%|██████████| 938/938 [00:33<00:00, 27.82it/s]\n",
            "100%|██████████| 10/10 [00:03<00:00,  3.31it/s]\n"
          ]
        },
        {
          "output_type": "stream",
          "name": "stdout",
          "text": [
            "EPOCH: 6,  TRAIN LOSS: 0.2163, TEST LOSS: 0.07176, ACCURACY: 0.9776 TRAIN/TEST TIME: 33.72/3.036 sec \n",
            "\n"
          ]
        },
        {
          "output_type": "stream",
          "name": "stderr",
          "text": [
            "  0%|          | 3/938 [00:00<00:35, 26.29it/s]"
          ]
        },
        {
          "output_type": "stream",
          "name": "stdout",
          "text": [
            "For batch: 0-1 train_loss: 0.10784921795129776\n"
          ]
        },
        {
          "output_type": "stream",
          "name": "stderr",
          "text": [
            " 11%|█         | 99/938 [00:03<00:30, 27.07it/s]"
          ]
        },
        {
          "output_type": "stream",
          "name": "stdout",
          "text": [
            "For batch: 0-94 train_loss: 0.2126640557767229\n"
          ]
        },
        {
          "output_type": "stream",
          "name": "stderr",
          "text": [
            " 20%|██        | 190/938 [00:06<00:27, 27.23it/s]"
          ]
        },
        {
          "output_type": "stream",
          "name": "stdout",
          "text": [
            "For batch: 0-187 train_loss: 0.21583887954606093\n"
          ]
        },
        {
          "output_type": "stream",
          "name": "stderr",
          "text": [
            " 30%|███       | 283/938 [00:10<00:24, 26.71it/s]"
          ]
        },
        {
          "output_type": "stream",
          "name": "stdout",
          "text": [
            "For batch: 0-280 train_loss: 0.21709755057735103\n"
          ]
        },
        {
          "output_type": "stream",
          "name": "stderr",
          "text": [
            " 40%|████      | 376/938 [00:13<00:21, 26.41it/s]"
          ]
        },
        {
          "output_type": "stream",
          "name": "stdout",
          "text": [
            "For batch: 0-373 train_loss: 0.2150361074319474\n"
          ]
        },
        {
          "output_type": "stream",
          "name": "stderr",
          "text": [
            " 50%|█████     | 469/938 [00:16<00:17, 26.61it/s]"
          ]
        },
        {
          "output_type": "stream",
          "name": "stdout",
          "text": [
            "For batch: 0-466 train_loss: 0.2118385024368763\n"
          ]
        },
        {
          "output_type": "stream",
          "name": "stderr",
          "text": [
            " 60%|██████    | 564/938 [00:20<00:13, 27.15it/s]"
          ]
        },
        {
          "output_type": "stream",
          "name": "stdout",
          "text": [
            "For batch: 0-559 train_loss: 0.21310537921561326\n"
          ]
        },
        {
          "output_type": "stream",
          "name": "stderr",
          "text": [
            " 70%|██████▉   | 655/938 [00:23<00:11, 24.47it/s]"
          ]
        },
        {
          "output_type": "stream",
          "name": "stdout",
          "text": [
            "For batch: 0-652 train_loss: 0.21003275422916456\n"
          ]
        },
        {
          "output_type": "stream",
          "name": "stderr",
          "text": [
            " 80%|███████▉  | 750/938 [00:27<00:06, 27.72it/s]"
          ]
        },
        {
          "output_type": "stream",
          "name": "stdout",
          "text": [
            "For batch: 0-745 train_loss: 0.20971461140469416\n"
          ]
        },
        {
          "output_type": "stream",
          "name": "stderr",
          "text": [
            " 90%|████████▉ | 841/938 [00:30<00:03, 27.60it/s]"
          ]
        },
        {
          "output_type": "stream",
          "name": "stdout",
          "text": [
            "For batch: 0-838 train_loss: 0.20825523176721714\n"
          ]
        },
        {
          "output_type": "stream",
          "name": "stderr",
          "text": [
            "100%|█████████▉| 934/938 [00:33<00:00, 27.20it/s]"
          ]
        },
        {
          "output_type": "stream",
          "name": "stdout",
          "text": [
            "For batch: 0-931 train_loss: 0.20796485467304732\n"
          ]
        },
        {
          "output_type": "stream",
          "name": "stderr",
          "text": [
            "100%|██████████| 938/938 [00:33<00:00, 27.82it/s]\n",
            "100%|██████████| 10/10 [00:02<00:00,  3.35it/s]\n"
          ]
        },
        {
          "output_type": "stream",
          "name": "stdout",
          "text": [
            "EPOCH: 7,  TRAIN LOSS: 0.20744, TEST LOSS: 0.0663, ACCURACY: 0.9801 TRAIN/TEST TIME: 33.731/2.994 sec \n",
            "\n"
          ]
        },
        {
          "output_type": "stream",
          "name": "stderr",
          "text": [
            "  0%|          | 3/938 [00:00<00:38, 24.31it/s]"
          ]
        },
        {
          "output_type": "stream",
          "name": "stdout",
          "text": [
            "For batch: 0-1 train_loss: 0.2746754288673401\n"
          ]
        },
        {
          "output_type": "stream",
          "name": "stderr",
          "text": [
            " 10%|█         | 98/938 [00:04<00:44, 18.79it/s]"
          ]
        },
        {
          "output_type": "stream",
          "name": "stdout",
          "text": [
            "For batch: 0-94 train_loss: 0.20504800594867545\n"
          ]
        },
        {
          "output_type": "stream",
          "name": "stderr",
          "text": [
            " 20%|██        | 191/938 [00:07<00:28, 25.90it/s]"
          ]
        },
        {
          "output_type": "stream",
          "name": "stdout",
          "text": [
            "For batch: 0-187 train_loss: 0.20328399228220956\n"
          ]
        },
        {
          "output_type": "stream",
          "name": "stderr",
          "text": [
            " 30%|███       | 285/938 [00:11<00:23, 27.33it/s]"
          ]
        },
        {
          "output_type": "stream",
          "name": "stdout",
          "text": [
            "For batch: 0-280 train_loss: 0.20171103488121714\n"
          ]
        },
        {
          "output_type": "stream",
          "name": "stderr",
          "text": [
            " 40%|████      | 376/938 [00:14<00:19, 28.23it/s]"
          ]
        },
        {
          "output_type": "stream",
          "name": "stdout",
          "text": [
            "For batch: 0-373 train_loss: 0.20114241707221114\n"
          ]
        },
        {
          "output_type": "stream",
          "name": "stderr",
          "text": [
            " 50%|█████     | 469/938 [00:17<00:17, 27.11it/s]"
          ]
        },
        {
          "output_type": "stream",
          "name": "stdout",
          "text": [
            "For batch: 0-466 train_loss: 0.1961739781860246\n"
          ]
        },
        {
          "output_type": "stream",
          "name": "stderr",
          "text": [
            " 60%|██████    | 563/938 [00:21<00:14, 26.33it/s]"
          ]
        },
        {
          "output_type": "stream",
          "name": "stdout",
          "text": [
            "For batch: 0-559 train_loss: 0.19734771050552777\n"
          ]
        },
        {
          "output_type": "stream",
          "name": "stderr",
          "text": [
            " 70%|███████   | 657/938 [00:24<00:10, 26.51it/s]"
          ]
        },
        {
          "output_type": "stream",
          "name": "stdout",
          "text": [
            "For batch: 0-652 train_loss: 0.19485680990355328\n"
          ]
        },
        {
          "output_type": "stream",
          "name": "stderr",
          "text": [
            " 80%|███████▉  | 750/938 [00:27<00:06, 28.55it/s]"
          ]
        },
        {
          "output_type": "stream",
          "name": "stdout",
          "text": [
            "For batch: 0-745 train_loss: 0.192419737457429\n"
          ]
        },
        {
          "output_type": "stream",
          "name": "stderr",
          "text": [
            " 90%|████████▉ | 842/938 [00:31<00:03, 27.65it/s]"
          ]
        },
        {
          "output_type": "stream",
          "name": "stdout",
          "text": [
            "For batch: 0-838 train_loss: 0.19392214108231812\n"
          ]
        },
        {
          "output_type": "stream",
          "name": "stderr",
          "text": [
            "100%|█████████▉| 936/938 [00:34<00:00, 26.67it/s]"
          ]
        },
        {
          "output_type": "stream",
          "name": "stdout",
          "text": [
            "For batch: 0-931 train_loss: 0.19393649617676192\n"
          ]
        },
        {
          "output_type": "stream",
          "name": "stderr",
          "text": [
            "100%|██████████| 938/938 [00:34<00:00, 27.24it/s]\n",
            "100%|██████████| 10/10 [00:03<00:00,  3.26it/s]\n"
          ]
        },
        {
          "output_type": "stream",
          "name": "stdout",
          "text": [
            "EPOCH: 8,  TRAIN LOSS: 0.19407, TEST LOSS: 0.0646, ACCURACY: 0.9809 TRAIN/TEST TIME: 34.445/3.076 sec \n",
            "\n"
          ]
        },
        {
          "output_type": "stream",
          "name": "stderr",
          "text": [
            "  0%|          | 3/938 [00:00<00:39, 23.54it/s]"
          ]
        },
        {
          "output_type": "stream",
          "name": "stdout",
          "text": [
            "For batch: 0-1 train_loss: 0.2061133235692978\n"
          ]
        },
        {
          "output_type": "stream",
          "name": "stderr",
          "text": [
            " 10%|█         | 97/938 [00:03<00:31, 26.96it/s]"
          ]
        },
        {
          "output_type": "stream",
          "name": "stdout",
          "text": [
            "For batch: 0-94 train_loss: 0.1870237879375828\n"
          ]
        },
        {
          "output_type": "stream",
          "name": "stderr",
          "text": [
            " 20%|██        | 191/938 [00:06<00:26, 27.84it/s]"
          ]
        },
        {
          "output_type": "stream",
          "name": "stdout",
          "text": [
            "For batch: 0-187 train_loss: 0.1879457557862774\n"
          ]
        },
        {
          "output_type": "stream",
          "name": "stderr",
          "text": [
            " 30%|███       | 284/938 [00:10<00:24, 26.28it/s]"
          ]
        },
        {
          "output_type": "stream",
          "name": "stdout",
          "text": [
            "For batch: 0-280 train_loss: 0.18042991644303713\n"
          ]
        },
        {
          "output_type": "stream",
          "name": "stderr",
          "text": [
            " 40%|████      | 377/938 [00:13<00:21, 26.40it/s]"
          ]
        },
        {
          "output_type": "stream",
          "name": "stdout",
          "text": [
            "For batch: 0-373 train_loss: 0.17999029122592616\n"
          ]
        },
        {
          "output_type": "stream",
          "name": "stderr",
          "text": [
            " 50%|█████     | 471/938 [00:16<00:16, 28.71it/s]"
          ]
        },
        {
          "output_type": "stream",
          "name": "stdout",
          "text": [
            "For batch: 0-466 train_loss: 0.1789833493131041\n"
          ]
        },
        {
          "output_type": "stream",
          "name": "stderr",
          "text": [
            " 60%|█████▉    | 562/938 [00:20<00:13, 27.22it/s]"
          ]
        },
        {
          "output_type": "stream",
          "name": "stdout",
          "text": [
            "For batch: 0-559 train_loss: 0.17982771695459893\n"
          ]
        },
        {
          "output_type": "stream",
          "name": "stderr",
          "text": [
            " 70%|██████▉   | 656/938 [00:23<00:10, 27.08it/s]"
          ]
        },
        {
          "output_type": "stream",
          "name": "stdout",
          "text": [
            "For batch: 0-652 train_loss: 0.17925861179600097\n"
          ]
        },
        {
          "output_type": "stream",
          "name": "stderr",
          "text": [
            " 80%|███████▉  | 750/938 [00:26<00:06, 28.21it/s]"
          ]
        },
        {
          "output_type": "stream",
          "name": "stdout",
          "text": [
            "For batch: 0-745 train_loss: 0.17817978060385525\n"
          ]
        },
        {
          "output_type": "stream",
          "name": "stderr",
          "text": [
            " 90%|████████▉ | 843/938 [00:30<00:03, 27.22it/s]"
          ]
        },
        {
          "output_type": "stream",
          "name": "stdout",
          "text": [
            "For batch: 0-838 train_loss: 0.1773602484518702\n"
          ]
        },
        {
          "output_type": "stream",
          "name": "stderr",
          "text": [
            "100%|█████████▉| 934/938 [00:33<00:00, 26.98it/s]"
          ]
        },
        {
          "output_type": "stream",
          "name": "stdout",
          "text": [
            "For batch: 0-931 train_loss: 0.17815092961863083\n"
          ]
        },
        {
          "output_type": "stream",
          "name": "stderr",
          "text": [
            "100%|██████████| 938/938 [00:33<00:00, 27.90it/s]\n",
            "100%|██████████| 10/10 [00:03<00:00,  2.81it/s]\n"
          ]
        },
        {
          "output_type": "stream",
          "name": "stdout",
          "text": [
            "EPOCH: 9,  TRAIN LOSS: 0.17834, TEST LOSS: 0.0605, ACCURACY: 0.9816 TRAIN/TEST TIME: 33.636/3.578 sec \n",
            "\n"
          ]
        },
        {
          "output_type": "stream",
          "name": "stderr",
          "text": [
            "  0%|          | 2/938 [00:00<00:49, 19.10it/s]"
          ]
        },
        {
          "output_type": "stream",
          "name": "stdout",
          "text": [
            "For batch: 0-1 train_loss: 0.24112868309020996\n"
          ]
        },
        {
          "output_type": "stream",
          "name": "stderr",
          "text": [
            " 10%|█         | 97/938 [00:03<00:30, 27.73it/s]"
          ]
        },
        {
          "output_type": "stream",
          "name": "stdout",
          "text": [
            "For batch: 0-94 train_loss: 0.1794073121582574\n"
          ]
        },
        {
          "output_type": "stream",
          "name": "stderr",
          "text": [
            " 20%|██        | 190/938 [00:07<00:27, 27.31it/s]"
          ]
        },
        {
          "output_type": "stream",
          "name": "stdout",
          "text": [
            "For batch: 0-187 train_loss: 0.17551653247505905\n"
          ]
        },
        {
          "output_type": "stream",
          "name": "stderr",
          "text": [
            " 30%|███       | 283/938 [00:10<00:24, 27.12it/s]"
          ]
        },
        {
          "output_type": "stream",
          "name": "stdout",
          "text": [
            "For batch: 0-280 train_loss: 0.17730897817361568\n"
          ]
        },
        {
          "output_type": "stream",
          "name": "stderr",
          "text": [
            " 40%|████      | 377/938 [00:13<00:20, 27.29it/s]"
          ]
        },
        {
          "output_type": "stream",
          "name": "stdout",
          "text": [
            "For batch: 0-373 train_loss: 0.17948269882506562\n"
          ]
        },
        {
          "output_type": "stream",
          "name": "stderr",
          "text": [
            " 50%|█████     | 470/938 [00:17<00:17, 27.29it/s]"
          ]
        },
        {
          "output_type": "stream",
          "name": "stdout",
          "text": [
            "For batch: 0-466 train_loss: 0.17739004770877406\n"
          ]
        },
        {
          "output_type": "stream",
          "name": "stderr",
          "text": [
            " 60%|█████▉    | 561/938 [00:20<00:14, 26.29it/s]"
          ]
        },
        {
          "output_type": "stream",
          "name": "stdout",
          "text": [
            "For batch: 0-559 train_loss: 0.17838902941076934\n"
          ]
        },
        {
          "output_type": "stream",
          "name": "stderr",
          "text": [
            " 70%|███████   | 657/938 [00:23<00:09, 28.15it/s]"
          ]
        },
        {
          "output_type": "stream",
          "name": "stdout",
          "text": [
            "For batch: 0-652 train_loss: 0.17857660067216294\n"
          ]
        },
        {
          "output_type": "stream",
          "name": "stderr",
          "text": [
            " 80%|███████▉  | 750/938 [00:26<00:06, 27.27it/s]"
          ]
        },
        {
          "output_type": "stream",
          "name": "stdout",
          "text": [
            "For batch: 0-745 train_loss: 0.17825644182528824\n"
          ]
        },
        {
          "output_type": "stream",
          "name": "stderr",
          "text": [
            " 90%|████████▉ | 841/938 [00:30<00:03, 28.30it/s]"
          ]
        },
        {
          "output_type": "stream",
          "name": "stdout",
          "text": [
            "For batch: 0-838 train_loss: 0.1767743656607367\n"
          ]
        },
        {
          "output_type": "stream",
          "name": "stderr",
          "text": [
            "100%|█████████▉| 935/938 [00:33<00:00, 26.25it/s]"
          ]
        },
        {
          "output_type": "stream",
          "name": "stdout",
          "text": [
            "For batch: 0-931 train_loss: 0.17749556885666096\n"
          ]
        },
        {
          "output_type": "stream",
          "name": "stderr",
          "text": [
            "100%|██████████| 938/938 [00:33<00:00, 28.00it/s]\n",
            "100%|██████████| 10/10 [00:02<00:00,  3.37it/s]\n"
          ]
        },
        {
          "output_type": "stream",
          "name": "stdout",
          "text": [
            "EPOCH: 10,  TRAIN LOSS: 0.17716, TEST LOSS: 0.05924, ACCURACY: 0.9827 TRAIN/TEST TIME: 33.517/2.982 sec \n",
            "\n"
          ]
        },
        {
          "output_type": "stream",
          "name": "stderr",
          "text": [
            "  0%|          | 3/938 [00:00<00:37, 24.74it/s]"
          ]
        },
        {
          "output_type": "stream",
          "name": "stdout",
          "text": [
            "For batch: 0-1 train_loss: 0.1743074655532837\n"
          ]
        },
        {
          "output_type": "stream",
          "name": "stderr",
          "text": [
            " 11%|█         | 99/938 [00:03<00:30, 27.75it/s]"
          ]
        },
        {
          "output_type": "stream",
          "name": "stdout",
          "text": [
            "For batch: 0-94 train_loss: 0.16990281475034166\n"
          ]
        },
        {
          "output_type": "stream",
          "name": "stderr",
          "text": [
            " 20%|██        | 192/938 [00:06<00:26, 27.70it/s]"
          ]
        },
        {
          "output_type": "stream",
          "name": "stdout",
          "text": [
            "For batch: 0-187 train_loss: 0.17763187752209883\n"
          ]
        },
        {
          "output_type": "stream",
          "name": "stderr",
          "text": [
            " 30%|███       | 282/938 [00:10<00:24, 26.28it/s]"
          ]
        },
        {
          "output_type": "stream",
          "name": "stdout",
          "text": [
            "For batch: 0-280 train_loss: 0.17956029245896\n"
          ]
        },
        {
          "output_type": "stream",
          "name": "stderr",
          "text": [
            " 40%|████      | 376/938 [00:13<00:20, 27.18it/s]"
          ]
        },
        {
          "output_type": "stream",
          "name": "stdout",
          "text": [
            "For batch: 0-373 train_loss: 0.17554751281244504\n"
          ]
        },
        {
          "output_type": "stream",
          "name": "stderr",
          "text": [
            " 50%|█████     | 470/938 [00:16<00:17, 27.20it/s]"
          ]
        },
        {
          "output_type": "stream",
          "name": "stdout",
          "text": [
            "For batch: 0-466 train_loss: 0.1725791073903889\n"
          ]
        },
        {
          "output_type": "stream",
          "name": "stderr",
          "text": [
            " 60%|█████▉    | 562/938 [00:20<00:13, 27.26it/s]"
          ]
        },
        {
          "output_type": "stream",
          "name": "stdout",
          "text": [
            "For batch: 0-559 train_loss: 0.1742766544069555\n"
          ]
        },
        {
          "output_type": "stream",
          "name": "stderr",
          "text": [
            " 70%|███████   | 657/938 [00:23<00:10, 28.05it/s]"
          ]
        },
        {
          "output_type": "stream",
          "name": "stdout",
          "text": [
            "For batch: 0-652 train_loss: 0.17412909999935447\n"
          ]
        },
        {
          "output_type": "stream",
          "name": "stderr",
          "text": [
            " 80%|███████▉  | 747/938 [00:27<00:10, 18.37it/s]"
          ]
        },
        {
          "output_type": "stream",
          "name": "stdout",
          "text": [
            "For batch: 0-745 train_loss: 0.1729686753386819\n"
          ]
        },
        {
          "output_type": "stream",
          "name": "stderr",
          "text": [
            " 90%|████████▉ | 841/938 [00:31<00:03, 28.04it/s]"
          ]
        },
        {
          "output_type": "stream",
          "name": "stdout",
          "text": [
            "For batch: 0-838 train_loss: 0.17264866096974485\n"
          ]
        },
        {
          "output_type": "stream",
          "name": "stderr",
          "text": [
            "100%|█████████▉| 934/938 [00:34<00:00, 27.80it/s]"
          ]
        },
        {
          "output_type": "stream",
          "name": "stdout",
          "text": [
            "For batch: 0-931 train_loss: 0.17152995121026077\n"
          ]
        },
        {
          "output_type": "stream",
          "name": "stderr",
          "text": [
            "100%|██████████| 938/938 [00:34<00:00, 26.99it/s]\n",
            "100%|██████████| 10/10 [00:02<00:00,  3.37it/s]\n"
          ]
        },
        {
          "output_type": "stream",
          "name": "stdout",
          "text": [
            "EPOCH: 11,  TRAIN LOSS: 0.17168, TEST LOSS: 0.05887, ACCURACY: 0.9814 TRAIN/TEST TIME: 34.758/2.98 sec \n",
            "\n"
          ]
        },
        {
          "output_type": "stream",
          "name": "stderr",
          "text": [
            "  0%|          | 3/938 [00:00<00:39, 23.59it/s]"
          ]
        },
        {
          "output_type": "stream",
          "name": "stdout",
          "text": [
            "For batch: 0-1 train_loss: 0.1277897208929062\n"
          ]
        },
        {
          "output_type": "stream",
          "name": "stderr",
          "text": [
            " 10%|█         | 98/938 [00:03<00:30, 27.15it/s]"
          ]
        },
        {
          "output_type": "stream",
          "name": "stdout",
          "text": [
            "For batch: 0-94 train_loss: 0.17416688724559673\n"
          ]
        },
        {
          "output_type": "stream",
          "name": "stderr",
          "text": [
            " 20%|██        | 192/938 [00:06<00:26, 28.17it/s]"
          ]
        },
        {
          "output_type": "stream",
          "name": "stdout",
          "text": [
            "For batch: 0-187 train_loss: 0.18045119200160797\n"
          ]
        },
        {
          "output_type": "stream",
          "name": "stderr",
          "text": [
            " 30%|███       | 285/938 [00:10<00:23, 28.11it/s]"
          ]
        },
        {
          "output_type": "stream",
          "name": "stdout",
          "text": [
            "For batch: 0-280 train_loss: 0.17805467951776727\n"
          ]
        },
        {
          "output_type": "stream",
          "name": "stderr",
          "text": [
            " 40%|████      | 376/938 [00:13<00:21, 26.43it/s]"
          ]
        },
        {
          "output_type": "stream",
          "name": "stdout",
          "text": [
            "For batch: 0-373 train_loss: 0.17399077963872986\n"
          ]
        },
        {
          "output_type": "stream",
          "name": "stderr",
          "text": [
            " 50%|█████     | 470/938 [00:16<00:17, 26.63it/s]"
          ]
        },
        {
          "output_type": "stream",
          "name": "stdout",
          "text": [
            "For batch: 0-466 train_loss: 0.175741955170272\n"
          ]
        },
        {
          "output_type": "stream",
          "name": "stderr",
          "text": [
            " 60%|██████    | 563/938 [00:20<00:15, 24.24it/s]"
          ]
        },
        {
          "output_type": "stream",
          "name": "stdout",
          "text": [
            "For batch: 0-559 train_loss: 0.1740482425507098\n"
          ]
        },
        {
          "output_type": "stream",
          "name": "stderr",
          "text": [
            " 70%|███████   | 657/938 [00:23<00:10, 27.45it/s]"
          ]
        },
        {
          "output_type": "stream",
          "name": "stdout",
          "text": [
            "For batch: 0-652 train_loss: 0.17354783900596338\n"
          ]
        },
        {
          "output_type": "stream",
          "name": "stderr",
          "text": [
            " 80%|███████▉  | 749/938 [00:26<00:07, 26.74it/s]"
          ]
        },
        {
          "output_type": "stream",
          "name": "stdout",
          "text": [
            "For batch: 0-745 train_loss: 0.17197249165967407\n"
          ]
        },
        {
          "output_type": "stream",
          "name": "stderr",
          "text": [
            " 90%|████████▉ | 841/938 [00:30<00:03, 24.47it/s]"
          ]
        },
        {
          "output_type": "stream",
          "name": "stdout",
          "text": [
            "For batch: 0-838 train_loss: 0.17358879681214298\n"
          ]
        },
        {
          "output_type": "stream",
          "name": "stderr",
          "text": [
            "100%|█████████▉| 935/938 [00:33<00:00, 26.60it/s]"
          ]
        },
        {
          "output_type": "stream",
          "name": "stdout",
          "text": [
            "For batch: 0-931 train_loss: 0.17305302962652785\n"
          ]
        },
        {
          "output_type": "stream",
          "name": "stderr",
          "text": [
            "100%|██████████| 938/938 [00:33<00:00, 27.65it/s]\n",
            "100%|██████████| 10/10 [00:03<00:00,  3.26it/s]\n"
          ]
        },
        {
          "output_type": "stream",
          "name": "stdout",
          "text": [
            "EPOCH: 12,  TRAIN LOSS: 0.17267, TEST LOSS: 0.05982, ACCURACY: 0.9813 TRAIN/TEST TIME: 33.936/3.088 sec \n",
            "\n"
          ]
        },
        {
          "output_type": "stream",
          "name": "stderr",
          "text": [
            "  0%|          | 3/938 [00:00<00:40, 23.36it/s]"
          ]
        },
        {
          "output_type": "stream",
          "name": "stdout",
          "text": [
            "For batch: 0-1 train_loss: 0.03186226263642311\n"
          ]
        },
        {
          "output_type": "stream",
          "name": "stderr",
          "text": [
            " 10%|█         | 98/938 [00:03<00:30, 27.37it/s]"
          ]
        },
        {
          "output_type": "stream",
          "name": "stdout",
          "text": [
            "For batch: 0-94 train_loss: 0.16086384776900423\n"
          ]
        },
        {
          "output_type": "stream",
          "name": "stderr",
          "text": [
            " 20%|██        | 190/938 [00:06<00:27, 27.62it/s]"
          ]
        },
        {
          "output_type": "stream",
          "name": "stdout",
          "text": [
            "For batch: 0-187 train_loss: 0.16642136529167706\n"
          ]
        },
        {
          "output_type": "stream",
          "name": "stderr",
          "text": [
            " 30%|███       | 285/938 [00:10<00:23, 27.75it/s]"
          ]
        },
        {
          "output_type": "stream",
          "name": "stdout",
          "text": [
            "For batch: 0-280 train_loss: 0.17507080164338862\n"
          ]
        },
        {
          "output_type": "stream",
          "name": "stderr",
          "text": [
            " 40%|████      | 376/938 [00:13<00:20, 27.45it/s]"
          ]
        },
        {
          "output_type": "stream",
          "name": "stdout",
          "text": [
            "For batch: 0-373 train_loss: 0.17163523589198454\n"
          ]
        },
        {
          "output_type": "stream",
          "name": "stderr",
          "text": [
            " 50%|█████     | 470/938 [00:16<00:17, 27.47it/s]"
          ]
        },
        {
          "output_type": "stream",
          "name": "stdout",
          "text": [
            "For batch: 0-466 train_loss: 0.17193744172513997\n"
          ]
        },
        {
          "output_type": "stream",
          "name": "stderr",
          "text": [
            " 60%|██████    | 563/938 [00:20<00:13, 26.90it/s]"
          ]
        },
        {
          "output_type": "stream",
          "name": "stdout",
          "text": [
            "For batch: 0-559 train_loss: 0.16999756146308986\n"
          ]
        },
        {
          "output_type": "stream",
          "name": "stderr",
          "text": [
            " 70%|███████   | 657/938 [00:23<00:10, 27.83it/s]"
          ]
        },
        {
          "output_type": "stream",
          "name": "stdout",
          "text": [
            "For batch: 0-652 train_loss: 0.16789252251569478\n"
          ]
        },
        {
          "output_type": "stream",
          "name": "stderr",
          "text": [
            " 80%|███████▉  | 749/938 [00:26<00:06, 27.82it/s]"
          ]
        },
        {
          "output_type": "stream",
          "name": "stdout",
          "text": [
            "For batch: 0-745 train_loss: 0.16835386584069104\n"
          ]
        },
        {
          "output_type": "stream",
          "name": "stderr",
          "text": [
            " 90%|████████▉ | 841/938 [00:29<00:03, 26.19it/s]"
          ]
        },
        {
          "output_type": "stream",
          "name": "stdout",
          "text": [
            "For batch: 0-838 train_loss: 0.1675227476519517\n"
          ]
        },
        {
          "output_type": "stream",
          "name": "stderr",
          "text": [
            "100%|█████████▉| 936/938 [00:33<00:00, 27.43it/s]"
          ]
        },
        {
          "output_type": "stream",
          "name": "stdout",
          "text": [
            "For batch: 0-931 train_loss: 0.16773626118674315\n"
          ]
        },
        {
          "output_type": "stream",
          "name": "stderr",
          "text": [
            "100%|██████████| 938/938 [00:33<00:00, 28.09it/s]\n",
            "100%|██████████| 10/10 [00:03<00:00,  3.33it/s]"
          ]
        },
        {
          "output_type": "stream",
          "name": "stdout",
          "text": [
            "EPOCH: 13,  TRAIN LOSS: 0.1676, TEST LOSS: 0.05851, ACCURACY: 0.9819 TRAIN/TEST TIME: 33.399/3.022 sec \n",
            "\n",
            "TRAINING STOP\n"
          ]
        },
        {
          "output_type": "stream",
          "name": "stderr",
          "text": [
            "\n"
          ]
        }
      ]
    },
    {
      "cell_type": "code",
      "source": [
        "def dummy_classifier_acc(labels):\n",
        "    return f\"Random Classifier gets {(100/len(labels))}% accuracy\"\n",
        "base_acc = dummy_classifier_acc([0,1,2,3,4,5,6,7,8,9])\n",
        "print(base_acc)"
      ],
      "metadata": {
        "colab": {
          "base_uri": "https://localhost:8080/"
        },
        "id": "dTHAoRZS1sOy",
        "outputId": "3b124245-b2ae-4124-8886-7eee790d1c15"
      },
      "execution_count": null,
      "outputs": [
        {
          "output_type": "stream",
          "name": "stdout",
          "text": [
            "Random Classifier gets 10.0% accuracy\n"
          ]
        }
      ]
    },
    {
      "cell_type": "markdown",
      "source": [
        "### **Dlaczego test loss jest mniejszy niz train loss**\n",
        "\n",
        "[Medium](https://towardsdatascience.com/what-your-validation-loss-is-lower-than-your-training-loss-this-is-why-5e92e0b1747e)"
      ],
      "metadata": {
        "id": "GtAbJnz1tVpj"
      }
    },
    {
      "cell_type": "code",
      "source": [
        "print(f\"TRAIN LOSS: {train_loss}\")\n",
        "print(f\"TEST LOSS: {test_loss}\")\n",
        "print(f\"ACCURACY : {test_loss}\")\n",
        "print(f\"BASE LOSS: {base_loss}\")"
      ],
      "metadata": {
        "colab": {
          "base_uri": "https://localhost:8080/"
        },
        "id": "U1bBKkkPrCPJ",
        "outputId": "ee756a78-b762-488a-c6ce-685a48344bfd"
      },
      "execution_count": null,
      "outputs": [
        {
          "output_type": "stream",
          "name": "stdout",
          "text": [
            "TRAIN LOSS: [0.96265647 0.39362022 0.30457769 0.26690603 0.23597295 0.21630194\n",
            " 0.20744337 0.19407141 0.17834043 0.17716061 0.17167555 0.17266506\n",
            " 0.16759526]\n",
            "TEST LOSS: [0.19390289 0.12219794 0.09655321 0.09019126 0.07673054 0.07176262\n",
            " 0.06630135 0.06459999 0.06049555 0.05924033 0.05887343 0.05981554\n",
            " 0.0585105 ]\n",
            "BASE LOSS: (2.311457967758179, 0.0689)\n"
          ]
        }
      ]
    },
    {
      "cell_type": "code",
      "source": [
        "base_loss = base_loss[0]"
      ],
      "metadata": {
        "id": "vzWOW6O0pKIx"
      },
      "execution_count": null,
      "outputs": []
    },
    {
      "cell_type": "markdown",
      "source": [
        "#### Early stopping\n",
        "[wiki](https://en.wikipedia.org/wiki/Early_stopping)\n",
        "\n",
        "\n",
        "```\n",
        "\"Stop training as soon as the error on the validation set is higher than it was the last time it was checked.\"\n",
        "```\n",
        "\n"
      ],
      "metadata": {
        "id": "cICf6sHReY7C"
      }
    },
    {
      "cell_type": "code",
      "source": [
        "epoch"
      ],
      "metadata": {
        "colab": {
          "base_uri": "https://localhost:8080/"
        },
        "id": "l_EyojvVt9qC",
        "outputId": "c9f388d8-8945-489f-b04c-7be10bf1bf34"
      },
      "execution_count": null,
      "outputs": [
        {
          "output_type": "execute_result",
          "data": {
            "text/plain": [
              "20"
            ]
          },
          "metadata": {},
          "execution_count": 35
        }
      ]
    },
    {
      "cell_type": "markdown",
      "source": [
        "# Without scheduler"
      ],
      "metadata": {
        "id": "liPghLH40Df7"
      }
    },
    {
      "cell_type": "code",
      "source": [
        "import matplotlib.pyplot as plt\n",
        "from numpy import arange\n",
        "# plot data\n",
        "from sklearn.metrics import confusion_matrix\n",
        "import seaborn as sn\n",
        "import pandas as pd\n",
        "\n",
        "\n",
        "def plot_data(train_loss, test_loss, base_loss=None):\n",
        "    '''\n",
        "    Plot train and test loss\n",
        "        loss without training\n",
        "    base_loss\n",
        "\n",
        "    '''\n",
        "    num_epoch = [i for i in range(1,len(train_loss)+1)]\n",
        "    plt.plot(num_epoch, train_loss, label='Training Loss')\n",
        "    plt.plot(num_epoch, test_loss, label='Validation Loss')\n",
        "    if base_loss != None:\n",
        "        plt.scatter(1, base_loss, color='red', label='Base Loss')\n",
        "    # Add in a title and axes labels\n",
        "    plt.title('Training and Validation Loss')\n",
        "    plt.xlabel('Epochs')\n",
        "    plt.ylabel('Loss')\n",
        "    \n",
        "    # Set the tick locations\n",
        "    plt.xticks(arange(1, len(train_loss)+1))\n",
        "    \n",
        "    # Display the plot\n",
        "    plt.legend(loc='best')\n",
        "    plt.show()\n",
        "\n",
        "\n",
        "\n",
        "def plot_interval_loss(interval_loss):\n",
        "    #flatten interval loss\n",
        "    interval_loss=[element for sublist in interval_loss for element in sublist]\n",
        "    num_intervals = [i for i in range(1,len(interval_loss)+1)]\n",
        "    plt.plot(num_intervals, interval_loss, label='Training Loss')\n",
        "    plt.title('Training interval Loss')\n",
        "    plt.xlabel('Batches')\n",
        "    plt.ylabel('Loss')\n",
        "    plt.legend(loc='best')\n",
        "    plt.show()\n",
        "\n",
        "\n",
        "\n",
        "def plot_confusion_matrix(test_loader=test_loader, save=False):\n",
        "    y_pred = []\n",
        "    y_true = []\n",
        "\n",
        "    # iterate over test data\n",
        "    for inputs, labels in test_loader:\n",
        "            output = network(inputs) # Feed Network\n",
        "\n",
        "            output = (torch.max(torch.exp(output), 1)[1]).data.cpu().numpy()\n",
        "            #print(output)\n",
        "            y_pred.extend(output) # Save Prediction\n",
        "            \n",
        "            labels = labels.data.cpu().numpy()\n",
        "            y_true.extend(labels) # Save Truth\n",
        "\n",
        "    # constant for classes\n",
        "    classes = ('0', '1', '2', '3', '4',\n",
        "            '5', '6', '7', '8', '9')\n",
        "\n",
        "    # Build confusion matrix\n",
        "    cf_matrix = confusion_matrix(y_true, y_pred)\n",
        "    #print(cf_matrix)\n",
        "    df_cm = pd.DataFrame(cf_matrix/np.sum(cf_matrix) *10, index = [i for i in classes],\n",
        "                        columns = [i for i in classes])\n",
        "    plt.figure(figsize = (12,7))\n",
        "    sn.heatmap(df_cm, annot=True)\n",
        "    if save is True:\n",
        "        plt.savefig('output.png')\n",
        "\n",
        "\n",
        "def plot_accuracy(acc_tab=acc_tab):\n",
        "    length = [i for i in range(len(acc_tab))]\n",
        "    plt.plot(length, acc_tab, label='Accuracy')\n",
        "    plt.title('Accuracy of model')\n",
        "    plt.xlabel('Epochs')\n",
        "    plt.ylabel('Accuracy')\n",
        "    plt.legend(loc='best')\n",
        "    plt.show() \n",
        "\n",
        "def print_best(train_loss=train_loss, test_loss=test_loss, acc_tab=acc_tab):\n",
        "    '''\n",
        "    Dodac dla ktorej epoki najlepsze wyniki dla ktorego\n",
        "    '''\n",
        "    print(f\"LOWEST TRAIN_LOSS: {min(train_loss)}\")\n",
        "    print(f\"LOWEST TEST_LOSS: {min(test_loss)}\")\n",
        "    print(f\"HIGHREST ACCURACY: {max(acc_tab)}\")\n",
        "\n",
        "print_best()\n",
        "plot_data(train_loss, test_loss, base_loss)\n",
        "plot_data(train_loss, test_loss)\n",
        "plot_interval_loss(all_interval_losses)\n",
        "plot_accuracy()\n",
        "plot_confusion_matrix(test_loader)"
      ],
      "metadata": {
        "colab": {
          "base_uri": "https://localhost:8080/",
          "height": 1000
        },
        "id": "dGDI5stwPlmX",
        "outputId": "bac481d6-4e35-4240-8f75-55e81d172fe4"
      },
      "execution_count": null,
      "outputs": [
        {
          "output_type": "display_data",
          "data": {
            "text/plain": [
              "<Figure size 432x288 with 1 Axes>"
            ],
            "image/png": "[encoded data removed]"
          },
          "metadata": {
            "needs_background": "light"
          }
        },
        {
          "output_type": "display_data",
          "data": {
            "text/plain": [
              "<Figure size 432x288 with 1 Axes>"
            ],
            "image/png": "[encoded data removed]"
          },
          "metadata": {
            "needs_background": "light"
          }
        },
        {
          "output_type": "display_data",
          "data": {
            "text/plain": [
              "<Figure size 432x288 with 1 Axes>"
            ],
            "image/png": "[encoded data removed]"
          },
          "metadata": {
            "needs_background": "light"
          }
        },
        {
          "output_type": "stream",
          "name": "stderr",
          "text": [
            "/usr/local/lib/python3.7/dist-packages/ipykernel_launcher.py:55: UserWarning: Implicit dimension choice for log_softmax has been deprecated. Change the call to include dim=X as an argument.\n"
          ]
        },
        {
          "output_type": "display_data",
          "data": {
            "text/plain": [
              "<Figure size 864x504 with 2 Axes>"
            ],
            "image/png": "[encoded data removed]"
          },
          "metadata": {
            "needs_background": "light"
          }
        }
      ]
    },
    {
      "cell_type": "markdown",
      "source": [
        "# With scheduler"
      ],
      "metadata": {
        "id": "4aqr9J490GTo"
      }
    },
    {
      "cell_type": "code",
      "source": [
        "print_best()\n",
        "plot_data(train_loss, test_loss, base_loss)\n",
        "plot_data(train_loss, test_loss)\n",
        "plot_interval_loss(all_interval_losses)\n",
        "plot_accuracy()\n",
        "plot_confusion_matrix(test_loader)\n"
      ],
      "metadata": {
        "colab": {
          "base_uri": "https://localhost:8080/",
          "height": 1000
        },
        "id": "OuuL-5At0KBa",
        "outputId": "3088a703-f31e-42e6-f814-a56076766bc6"
      },
      "execution_count": null,
      "outputs": [
        {
          "output_type": "stream",
          "name": "stdout",
          "text": [
            "LOWEST TRAIN_LOSS: 0.16759525594919095\n",
            "LOWEST TEST_LOSS: 0.05851049907505512\n",
            "HIGHREST ACCURACY: 0.9827\n"
          ]
        },
        {
          "output_type": "display_data",
          "data": {
            "text/plain": [
              "<Figure size 432x288 with 1 Axes>"
            ],
            "image/png": "[encoded data removed]"
          },
          "metadata": {
            "needs_background": "light"
          }
        },
        {
          "output_type": "display_data",
          "data": {
            "text/plain": [
              "<Figure size 432x288 with 1 Axes>"
            ],
            "image/png": "[encoded data removed]"
          },
          "metadata": {
            "needs_background": "light"
          }
        },
        {
          "output_type": "display_data",
          "data": {
            "text/plain": [
              "<Figure size 432x288 with 1 Axes>"
            ],
            "image/png": "[encoded data removed]"
          },
          "metadata": {
            "needs_background": "light"
          }
        },
        {
          "output_type": "display_data",
          "data": {
            "text/plain": [
              "<Figure size 432x288 with 1 Axes>"
            ],
            "image/png": "[encoded data removed]"
          },
          "metadata": {
            "needs_background": "light"
          }
        },
        {
          "output_type": "stream",
          "name": "stderr",
          "text": [
            "/usr/local/lib/python3.7/dist-packages/ipykernel_launcher.py:55: UserWarning: Implicit dimension choice for log_softmax has been deprecated. Change the call to include dim=X as an argument.\n"
          ]
        },
        {
          "output_type": "display_data",
          "data": {
            "text/plain": [
              "<Figure size 864x504 with 2 Axes>"
            ],
            "image/png": "[encoded data removed]"
          },
          "metadata": {
            "needs_background": "light"
          }
        }
      ]
    },
    {
      "cell_type": "markdown",
      "source": [
        "# EDA bad examples"
      ],
      "metadata": {
        "id": "NWIP6FRqQ7cf"
      }
    },
    {
      "cell_type": "code",
      "source": [
        "# show missclasification with label and image\n"
      ],
      "metadata": {
        "id": "I-IssLHZRGYW"
      },
      "execution_count": null,
      "outputs": []
    },
    {
      "cell_type": "markdown",
      "source": [
        "# Zamiast sprawdzac po kazdej epoce , sprawdzac po ilosci danych ktore siec widziala"
      ],
      "metadata": {
        "id": "H2r6OIAolcJL"
      }
    },
    {
      "cell_type": "code",
      "source": [
        "# plot data\n",
        "\n",
        "examples = enumerate(test_loader)\n",
        "batch_idx, (example_data, example_targets) = next(examples)\n",
        "\n",
        "with torch.no_grad():\n",
        "  output = network(example_data)"
      ],
      "metadata": {
        "id": "hGoe5HjCxfVj",
        "colab": {
          "base_uri": "https://localhost:8080/"
        },
        "outputId": "f73ab2c5-0f2b-43bb-8575-0005c808e0f3"
      },
      "execution_count": null,
      "outputs": [
        {
          "output_type": "stream",
          "name": "stderr",
          "text": [
            "/usr/local/lib/python3.7/dist-packages/ipykernel_launcher.py:55: UserWarning: Implicit dimension choice for log_softmax has been deprecated. Change the call to include dim=X as an argument.\n"
          ]
        }
      ]
    },
    {
      "cell_type": "code",
      "source": [
        "fig = plt.figure()\n",
        "for i in range(6):\n",
        "  plt.subplot(2,3,i+1)\n",
        "  plt.tight_layout()\n",
        "  plt.imshow(example_data[i][0], cmap='gray', interpolation='none')\n",
        "  plt.title(\"Prediction: {}\".format(\n",
        "    output.data.max(1, keepdim=True)[1][i].item()))\n",
        "  plt.xticks([])\n",
        "  plt.yticks([])\n",
        "fig"
      ],
      "metadata": {
        "id": "DuI60_gExg64",
        "colab": {
          "base_uri": "https://localhost:8080/",
          "height": 551
        },
        "outputId": "6fbfa5a6-7e5f-4b2d-e3c1-e6abfeca2c18"
      },
      "execution_count": null,
      "outputs": [
        {
          "output_type": "execute_result",
          "data": {
            "text/plain": [
              "<Figure size 432x288 with 6 Axes>"
            ],
            "image/png": "[encoded data removed]"
          },
          "metadata": {},
          "execution_count": 99
        },
        {
          "output_type": "display_data",
          "data": {
            "text/plain": [
              "<Figure size 432x288 with 6 Axes>"
            ],
            "image/png": "[encoded data removed]"
          },
          "metadata": {}
        }
      ]
    },
    {
      "cell_type": "code",
      "source": [
        "# kontynuowanie z checkpointu"
      ],
      "metadata": {
        "id": "rPhfDW1Zxs43"
      },
      "execution_count": null,
      "outputs": []
    }
  ]
}